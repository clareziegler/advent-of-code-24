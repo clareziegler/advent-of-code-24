{
 "cells": [
  {
   "cell_type": "code",
   "execution_count": 1,
   "id": "f03698d9",
   "metadata": {},
   "outputs": [],
   "source": [
    "import pandas as pd"
   ]
  },
  {
   "cell_type": "markdown",
   "id": "9127ead4",
   "metadata": {},
   "source": [
    "### Part 1"
   ]
  },
  {
   "cell_type": "code",
   "execution_count": 2,
   "id": "623eb48c",
   "metadata": {},
   "outputs": [],
   "source": [
    "#Read file into list, stripping '\\n'\n",
    "lines = []\n",
    "with open(r\"C:\\Users\\clare\\Advent-of-code-2023\\Day1\\input.txt\", 'r') as itemlist:\n",
    "    for item in itemlist:               \n",
    "        lines.append(item.strip('\\n'))      "
   ]
  },
  {
   "cell_type": "code",
   "execution_count": 3,
   "id": "582736b7",
   "metadata": {},
   "outputs": [],
   "source": [
    "# Get first calibration value\n",
    "def get_first_value(string):\n",
    "    for s in string:\n",
    "        if s in ['1', '2', '3', '4', '5', '6', '7', '8', '9', '0']:\n",
    "            return s\n",
    "    return 'No digit found'\n",
    "    "
   ]
  },
  {
   "cell_type": "code",
   "execution_count": 4,
   "id": "db18f820",
   "metadata": {},
   "outputs": [],
   "source": [
    "# Get last calibration value\n",
    "def get_last_value(string):\n",
    "    for s in string[::-1]:\n",
    "        if s in ['1', '2', '3', '4', '5', '6', '7', '8', '9', '0']:\n",
    "            return s\n",
    "    return 'No digit found'\n",
    "    "
   ]
  },
  {
   "cell_type": "code",
   "execution_count": 5,
   "id": "8b98e14a",
   "metadata": {},
   "outputs": [],
   "source": [
    "def get_calibration_total_pt1(lines):\n",
    "    total = 0\n",
    "    for line in lines:\n",
    "        num = get_first_value(line) + get_last_value(line)\n",
    "        total = total + int(num)\n",
    "    return total"
   ]
  },
  {
   "cell_type": "code",
   "execution_count": 6,
   "id": "82b718c2",
   "metadata": {
    "scrolled": true
   },
   "outputs": [
    {
     "data": {
      "text/plain": [
       "55090"
      ]
     },
     "execution_count": 6,
     "metadata": {},
     "output_type": "execute_result"
    }
   ],
   "source": [
    "get_calibration_total_pt1(lines)"
   ]
  },
  {
   "cell_type": "markdown",
   "id": "25c98761",
   "metadata": {},
   "source": [
    "### Part 2"
   ]
  },
  {
   "cell_type": "code",
   "execution_count": 7,
   "id": "9423f2a8",
   "metadata": {},
   "outputs": [],
   "source": [
    "# define list of number strings\n",
    "numbers = ['1', 'one', '2', 'two', '3', 'three', '4', 'four', '5', 'five', '6', 'six', '7', 'seven', '8', 'eight', '9', 'nine']"
   ]
  },
  {
   "cell_type": "code",
   "execution_count": 8,
   "id": "295ca0b4",
   "metadata": {},
   "outputs": [],
   "source": [
    "def find_first_number(string, numbers): \n",
    "    lowest_index = len(string) + 1\n",
    "    \n",
    "    for number in numbers: \n",
    "        index = string.find(number)\n",
    "        if index != -1 and index < lowest_index:\n",
    "            lowest_index = index\n",
    "            first_number = number      \n",
    "    return first_number"
   ]
  },
  {
   "cell_type": "code",
   "execution_count": 9,
   "id": "d23f6267",
   "metadata": {},
   "outputs": [],
   "source": [
    "def find_last_number(string, numbers):\n",
    "    lowest_index = len(string) + 1\n",
    "    string = string[::-1]\n",
    "    \n",
    "    for number in numbers:\n",
    "        number_reversed = number[::-1]\n",
    "        \n",
    "        index = string.find(number_reversed)\n",
    "        \n",
    "        if index != -1 and index < lowest_index:\n",
    "            lowest_index = index\n",
    "            last_number = number\n",
    "            \n",
    "    return last_number   "
   ]
  },
  {
   "cell_type": "code",
   "execution_count": 10,
   "id": "2820181c",
   "metadata": {},
   "outputs": [],
   "source": [
    "def convert_to_digit(number):\n",
    "    num_dict = {'one': '1',\n",
    "                'two': '2',\n",
    "                'three': '3',\n",
    "                'four' : '4', \n",
    "                'five' : '5', \n",
    "                'six' : '6', \n",
    "                'seven' : '7',\n",
    "                'eight' : '8', \n",
    "                'nine' : '9', \n",
    "                'zero' : '0',\n",
    "                }\n",
    "    if number in ['1', '2', '3', '4', '5', '6', '7', '8', '9', '0']:\n",
    "        return number\n",
    "    else:\n",
    "        return num_dict[number]"
   ]
  },
  {
   "cell_type": "code",
   "execution_count": 11,
   "id": "f838d83f",
   "metadata": {},
   "outputs": [],
   "source": [
    "def get_calibration_total_pt2(lines, numbers):\n",
    "    total = 0\n",
    "    for line in lines:\n",
    "        num1 = convert_to_digit(find_first_number(line, numbers))\n",
    "        num2 = convert_to_digit(find_last_number(line, numbers))\n",
    "        total = total + int(num1)*10 + int(num2)\n",
    "    return total"
   ]
  },
  {
   "cell_type": "code",
   "execution_count": 12,
   "id": "c71e0cc3",
   "metadata": {},
   "outputs": [
    {
     "data": {
      "text/plain": [
       "54845"
      ]
     },
     "execution_count": 12,
     "metadata": {},
     "output_type": "execute_result"
    }
   ],
   "source": [
    "get_calibration_total_pt2(lines, numbers)"
   ]
  }
 ],
 "metadata": {
  "kernelspec": {
   "display_name": "Python 3 (ipykernel)",
   "language": "python",
   "name": "python3"
  },
  "language_info": {
   "codemirror_mode": {
    "name": "ipython",
    "version": 3
   },
   "file_extension": ".py",
   "mimetype": "text/x-python",
   "name": "python",
   "nbconvert_exporter": "python",
   "pygments_lexer": "ipython3",
   "version": "3.9.7"
  }
 },
 "nbformat": 4,
 "nbformat_minor": 5
}
