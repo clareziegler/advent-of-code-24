{
 "cells": [
  {
   "cell_type": "code",
   "execution_count": 1,
   "id": "ef7cd9f3",
   "metadata": {},
   "outputs": [],
   "source": [
    "import re"
   ]
  },
  {
   "cell_type": "markdown",
   "id": "fc1b8e61",
   "metadata": {},
   "source": [
    "### Part 1"
   ]
  },
  {
   "cell_type": "code",
   "execution_count": 2,
   "id": "ad5ff109",
   "metadata": {},
   "outputs": [],
   "source": [
    "#Read file into list, stripping '\\n'\n",
    "lines = []\n",
    "with open(r\"C:\\Users\\clare\\Advent-of-code-2023\\Day2\\input.txt\", 'r') as itemlist:\n",
    "    for item in itemlist:               \n",
    "        lines.append(item.strip('\\n'))     "
   ]
  },
  {
   "cell_type": "code",
   "execution_count": 3,
   "id": "3a44ae17",
   "metadata": {},
   "outputs": [],
   "source": [
    "#Get the game number from each line\n",
    "def get_game_number(txt):\n",
    "    return re.findall(\"Game (\\d+):\", txt)"
   ]
  },
  {
   "cell_type": "code",
   "execution_count": 4,
   "id": "ae2ce7e4",
   "metadata": {},
   "outputs": [],
   "source": [
    "#Get the max of a given colour\n",
    "def get_colour_max(colour, txt):\n",
    "    x = re.findall(f\"(\\d+) {colour}\", txt)\n",
    "    x = list(map(int, x))\n",
    "    return max(x)"
   ]
  },
  {
   "cell_type": "code",
   "execution_count": 5,
   "id": "b80d27be",
   "metadata": {},
   "outputs": [],
   "source": [
    "#Put it all together\n",
    "def get_game_total(lines):\n",
    "    game_total = 0\n",
    "    for line in lines: \n",
    "        #Get game number\n",
    "        game_number = get_game_number(line)\n",
    "        \n",
    "        #Define dictionary of totals\n",
    "        totals_dict = {'blue': 0,\n",
    "                       'red': 0,\n",
    "                       'green': 0\n",
    "                      }\n",
    "        #Get totals for each colour\n",
    "        for colour in totals_dict:\n",
    "            totals_dict[colour] = get_colour_max(colour, line)\n",
    "    \n",
    "        #If blues <= 14, reds <= 12, greens <= 13, add game number to total\n",
    "        if (totals_dict['blue'] <= 14) and (totals_dict['red'] <= 12) and (totals_dict['green'] <= 13):\n",
    "            game_total = game_total + int(game_number[0])\n",
    "            \n",
    "    return game_total"
   ]
  },
  {
   "cell_type": "code",
   "execution_count": 6,
   "id": "4afd2de1",
   "metadata": {},
   "outputs": [
    {
     "data": {
      "text/plain": [
       "2685"
      ]
     },
     "execution_count": 6,
     "metadata": {},
     "output_type": "execute_result"
    }
   ],
   "source": [
    "get_game_total(lines)"
   ]
  },
  {
   "cell_type": "markdown",
   "id": "f534fac7",
   "metadata": {},
   "source": [
    "### Part 2"
   ]
  },
  {
   "cell_type": "code",
   "execution_count": 8,
   "id": "78f96151",
   "metadata": {},
   "outputs": [],
   "source": [
    "def get_game_power(lines):\n",
    "    power_total = 0\n",
    "    for line in lines:         \n",
    "        #Define dictionary of totals\n",
    "        totals_dict = {'blue': 0,\n",
    "                       'red': 0,\n",
    "                       'green': 0\n",
    "                      }\n",
    "        #Get totals for each colour\n",
    "        for colour in totals_dict:\n",
    "            totals_dict[colour] = get_colour_max(colour, line)\n",
    "            \n",
    "        #Calculate game power\n",
    "        power = totals_dict['blue'] * totals_dict['red'] * totals_dict['green']\n",
    "        power_total = power_total + power\n",
    "    \n",
    "    return power_total"
   ]
  },
  {
   "cell_type": "code",
   "execution_count": 9,
   "id": "b39461ca",
   "metadata": {},
   "outputs": [
    {
     "data": {
      "text/plain": [
       "83707"
      ]
     },
     "execution_count": 9,
     "metadata": {},
     "output_type": "execute_result"
    }
   ],
   "source": [
    "get_game_power(lines)"
   ]
  }
 ],
 "metadata": {
  "kernelspec": {
   "display_name": "Python 3 (ipykernel)",
   "language": "python",
   "name": "python3"
  },
  "language_info": {
   "codemirror_mode": {
    "name": "ipython",
    "version": 3
   },
   "file_extension": ".py",
   "mimetype": "text/x-python",
   "name": "python",
   "nbconvert_exporter": "python",
   "pygments_lexer": "ipython3",
   "version": "3.9.7"
  }
 },
 "nbformat": 4,
 "nbformat_minor": 5
}
